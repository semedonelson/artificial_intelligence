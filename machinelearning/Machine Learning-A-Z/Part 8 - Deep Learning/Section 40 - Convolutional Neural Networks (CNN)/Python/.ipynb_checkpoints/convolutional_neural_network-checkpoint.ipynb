{
 "cells": [
  {
   "cell_type": "markdown",
   "metadata": {
    "id": "3DR-eO17geWu"
   },
   "source": [
    "# Convolutional Neural Network"
   ]
  },
  {
   "cell_type": "markdown",
   "metadata": {
    "id": "EMefrVPCg-60"
   },
   "source": [
    "### Importing the libraries"
   ]
  },
  {
   "cell_type": "code",
   "execution_count": 1,
   "metadata": {
    "id": "sCV30xyVhFbE"
   },
   "outputs": [],
   "source": [
    "import tensorflow as tf\n",
    "# class ImageDataGenerator allow us to process images\n",
    "from keras.preprocessing.image import ImageDataGenerator"
   ]
  },
  {
   "cell_type": "code",
   "execution_count": 2,
   "metadata": {
    "colab": {
     "base_uri": "https://localhost:8080/",
     "height": 36
    },
    "id": "FIleuCAjoFD8",
    "outputId": "331eaecc-5d77-430a-fa4b-0b906031f6f5"
   },
   "outputs": [
    {
     "data": {
      "text/plain": [
       "'2.11.0'"
      ]
     },
     "execution_count": 2,
     "metadata": {},
     "output_type": "execute_result"
    }
   ],
   "source": [
    "tf.__version__"
   ]
  },
  {
   "cell_type": "markdown",
   "metadata": {
    "id": "oxQxCBWyoGPE"
   },
   "source": [
    "## Part 1 - Data Preprocessing"
   ]
  },
  {
   "cell_type": "markdown",
   "metadata": {
    "id": "MvE-heJNo3GG"
   },
   "source": [
    "### Preprocessing the Training set"
   ]
  },
  {
   "cell_type": "code",
   "execution_count": 3,
   "metadata": {
    "id": "0koUcJMJpEBD"
   },
   "outputs": [
    {
     "name": "stdout",
     "output_type": "stream",
     "text": [
      "Found 8000 images belonging to 2 classes.\n"
     ]
    }
   ],
   "source": [
    "# we applied transformation on the training set dataset to avoid overfitting\n",
    "# Overfitting means that we'll high accuracy on training data (+-98%) and low accuracy on test set (+-80%)\n",
    "# these transformations are some simple geometrical transformation, zoons or rotations on the data\n",
    "# transformations is for instance transvections to shift some pixels\n",
    "# https://keras.io/ja/preprocessing/image/\n",
    "# rescale is to applied feature scalling to our data, it will devide every pixel values to 255. The pixel values will be between 0 and 1\n",
    "train_datagen = ImageDataGenerator(rescale = 1./255,\n",
    "                                   shear_range = 0.2,\n",
    "                                   zoom_range = 0.2,\n",
    "                                   horizontal_flip = True)\n",
    "# now we must connet our train_datagen to our training_set\n",
    "training_set = train_datagen.flow_from_directory('dataset/training_set',\n",
    "                                                 target_size = (64, 64),\n",
    "                                                 batch_size = 32,\n",
    "                                                 class_mode = 'binary')\n",
    "# class_mode can be one of \"categorical\", \"binary\", \"sparse\", \"input\", or \"None\"."
   ]
  },
  {
   "cell_type": "markdown",
   "metadata": {
    "id": "mrCMmGw9pHys"
   },
   "source": [
    "### Preprocessing the Test set"
   ]
  },
  {
   "cell_type": "code",
   "execution_count": 4,
   "metadata": {
    "id": "SH4WzfOhpKc3"
   },
   "outputs": [
    {
     "name": "stdout",
     "output_type": "stream",
     "text": [
      "Found 2000 images belonging to 2 classes.\n"
     ]
    }
   ],
   "source": [
    "# on the test set the only process applied is the scalling\n",
    "test_datagen = ImageDataGenerator(rescale = 1./255)\n",
    "test_set = test_datagen.flow_from_directory('dataset/test_set',\n",
    "                                            target_size = (64, 64),\n",
    "                                            batch_size = 32,\n",
    "                                            class_mode = 'binary')"
   ]
  },
  {
   "cell_type": "markdown",
   "metadata": {
    "id": "af8O4l90gk7B"
   },
   "source": [
    "## Part 2 - Building the CNN"
   ]
  },
  {
   "cell_type": "markdown",
   "metadata": {
    "id": "ces1gXY2lmoX"
   },
   "source": [
    "### Initialising the CNN"
   ]
  },
  {
   "cell_type": "code",
   "execution_count": 5,
   "metadata": {
    "id": "SAUt4UMPlhLS"
   },
   "outputs": [],
   "source": [
    "# same class used on ANN because CNN is also a type of ANN\n",
    "cnn = tf.keras.models.Sequential()"
   ]
  },
  {
   "cell_type": "markdown",
   "metadata": {
    "id": "u5YJj_XMl5LF"
   },
   "source": [
    "### Step 1 - Convolution"
   ]
  },
  {
   "cell_type": "code",
   "execution_count": 6,
   "metadata": {
    "id": "XPzPrMckl-hV"
   },
   "outputs": [],
   "source": [
    "# add first convolution layer (Conv2D)\n",
    "# https://keras.io/api/layers/convolution_layers/convolution2d/\n",
    "# filters - Integer, the dimensionality of the output space (i.e. the number of output filters in the convolution)\n",
    "# kernel_size - dimension (3x3)\n",
    "# input_shape - define the image dimension and 3 because we are working with color image (RBG). Only applied on the input layer\n",
    "cnn.add(tf.keras.layers.Conv2D(filters=32, kernel_size=3, activation='relu', input_shape=[64, 64, 3]))"
   ]
  },
  {
   "cell_type": "markdown",
   "metadata": {
    "id": "tf87FpvxmNOJ"
   },
   "source": [
    "### Step 2 - Pooling"
   ]
  },
  {
   "cell_type": "code",
   "execution_count": 7,
   "metadata": {
    "id": "ncpqPl69mOac"
   },
   "outputs": [],
   "source": [
    "# add pooling layers to our CNN (in this case max pooling)\n",
    "# means that we take the max pixel value on a certain group of pixels\n",
    "# pool_size - 2x2 pixels and take their max value\n",
    "# strides - how many pixek we shit to the rigth after appling max pool on first group of pixels\n",
    "cnn.add(tf.keras.layers.MaxPool2D(pool_size=2, strides=2))"
   ]
  },
  {
   "cell_type": "markdown",
   "metadata": {
    "id": "xaTOgD8rm4mU"
   },
   "source": [
    "### Adding a second convolutional layer"
   ]
  },
  {
   "cell_type": "code",
   "execution_count": 8,
   "metadata": {
    "id": "i_-FZjn_m8gk"
   },
   "outputs": [],
   "source": [
    "# add another convolutional layer, this time without the input_shape\n",
    "cnn.add(tf.keras.layers.Conv2D(filters=32, kernel_size=3, activation='relu'))\n",
    "# add max pooling layer to the added new convolutional layer\n",
    "cnn.add(tf.keras.layers.MaxPool2D(pool_size=2, strides=2))"
   ]
  },
  {
   "cell_type": "markdown",
   "metadata": {
    "id": "tmiEuvTunKfk"
   },
   "source": [
    "### Step 3 - Flattening"
   ]
  },
  {
   "cell_type": "code",
   "execution_count": 9,
   "metadata": {
    "id": "6AZeOGCvnNZn"
   },
   "outputs": [],
   "source": [
    "# flattening the result of all convolutional and pooling into a one dimensional array.\n",
    "# this array will be used as a input to a fully connected ANN\n",
    "cnn.add(tf.keras.layers.Flatten())"
   ]
  },
  {
   "cell_type": "markdown",
   "metadata": {
    "id": "dAoSECOm203v"
   },
   "source": [
    "### Step 4 - Full Connection"
   ]
  },
  {
   "cell_type": "code",
   "execution_count": 10,
   "metadata": {
    "id": "8GtmUlLd26Nq"
   },
   "outputs": [],
   "source": [
    "# units - number of hidden neurons \n",
    "# until the output layer is recomended to use relu as a activation function\n",
    "cnn.add(tf.keras.layers.Dense(units=128, activation='relu'))"
   ]
  },
  {
   "cell_type": "markdown",
   "metadata": {
    "id": "yTldFvbX28Na"
   },
   "source": [
    "### Step 5 - Output Layer"
   ]
  },
  {
   "cell_type": "code",
   "execution_count": 11,
   "metadata": {
    "id": "1p_Zj1Mc3Ko_"
   },
   "outputs": [],
   "source": [
    "# as we are doing bynary classification we only need 1 neuron as a output.\n",
    "# on the output, we use sigmoid as activation function on a binary classification else we use softmax for multiclass classification\n",
    "cnn.add(tf.keras.layers.Dense(units=1, activation='sigmoid'))"
   ]
  },
  {
   "cell_type": "markdown",
   "metadata": {
    "id": "D6XkI90snSDl"
   },
   "source": [
    "## Part 3 - Training the CNN"
   ]
  },
  {
   "cell_type": "markdown",
   "metadata": {
    "id": "vfrFQACEnc6i"
   },
   "source": [
    "### Compiling the CNN"
   ]
  },
  {
   "cell_type": "code",
   "execution_count": 12,
   "metadata": {
    "id": "NALksrNQpUlJ"
   },
   "outputs": [],
   "source": [
    "cnn.compile(optimizer = 'adam', loss = 'binary_crossentropy', metrics = ['accuracy'])"
   ]
  },
  {
   "cell_type": "markdown",
   "metadata": {
    "id": "ehS-v3MIpX2h"
   },
   "source": [
    "### Training the CNN on the Training set and evaluating it on the Test set"
   ]
  },
  {
   "cell_type": "code",
   "execution_count": 13,
   "metadata": {
    "id": "XUj1W4PJptta"
   },
   "outputs": [
    {
     "name": "stdout",
     "output_type": "stream",
     "text": [
      "Epoch 1/25\n",
      "250/250 [==============================] - 106s 409ms/step - loss: 0.6582 - accuracy: 0.6004 - val_loss: 0.6422 - val_accuracy: 0.6380\n",
      "Epoch 2/25\n",
      "250/250 [==============================] - 101s 402ms/step - loss: 0.5907 - accuracy: 0.6865 - val_loss: 0.5659 - val_accuracy: 0.7195\n",
      "Epoch 3/25\n",
      "250/250 [==============================] - 104s 417ms/step - loss: 0.5592 - accuracy: 0.7116 - val_loss: 0.5242 - val_accuracy: 0.7460\n",
      "Epoch 4/25\n",
      "250/250 [==============================] - 102s 410ms/step - loss: 0.5264 - accuracy: 0.7351 - val_loss: 0.5056 - val_accuracy: 0.7555\n",
      "Epoch 5/25\n",
      "250/250 [==============================] - 111s 444ms/step - loss: 0.5006 - accuracy: 0.7523 - val_loss: 0.5423 - val_accuracy: 0.7230\n",
      "Epoch 6/25\n",
      "250/250 [==============================] - 118s 473ms/step - loss: 0.4765 - accuracy: 0.7673 - val_loss: 0.4721 - val_accuracy: 0.7845\n",
      "Epoch 7/25\n",
      "250/250 [==============================] - 116s 462ms/step - loss: 0.4595 - accuracy: 0.7791 - val_loss: 0.5124 - val_accuracy: 0.7525\n",
      "Epoch 8/25\n",
      "250/250 [==============================] - 117s 468ms/step - loss: 0.4506 - accuracy: 0.7860 - val_loss: 0.4801 - val_accuracy: 0.7715\n",
      "Epoch 9/25\n",
      "250/250 [==============================] - 110s 440ms/step - loss: 0.4380 - accuracy: 0.7922 - val_loss: 0.4515 - val_accuracy: 0.7935\n",
      "Epoch 10/25\n",
      "250/250 [==============================] - 109s 438ms/step - loss: 0.4213 - accuracy: 0.8027 - val_loss: 0.4624 - val_accuracy: 0.7855\n",
      "Epoch 11/25\n",
      "250/250 [==============================] - 104s 416ms/step - loss: 0.4178 - accuracy: 0.8044 - val_loss: 0.5022 - val_accuracy: 0.7585\n",
      "Epoch 12/25\n",
      "250/250 [==============================] - 105s 420ms/step - loss: 0.4009 - accuracy: 0.8154 - val_loss: 0.4756 - val_accuracy: 0.7805\n",
      "Epoch 13/25\n",
      "250/250 [==============================] - 106s 424ms/step - loss: 0.3791 - accuracy: 0.8274 - val_loss: 0.4481 - val_accuracy: 0.7915\n",
      "Epoch 14/25\n",
      "250/250 [==============================] - 115s 462ms/step - loss: 0.3801 - accuracy: 0.8263 - val_loss: 0.4629 - val_accuracy: 0.7975\n",
      "Epoch 15/25\n",
      "250/250 [==============================] - 119s 473ms/step - loss: 0.3680 - accuracy: 0.8371 - val_loss: 0.4584 - val_accuracy: 0.8080\n",
      "Epoch 16/25\n",
      "250/250 [==============================] - 117s 470ms/step - loss: 0.3488 - accuracy: 0.8451 - val_loss: 0.5019 - val_accuracy: 0.7895\n",
      "Epoch 17/25\n",
      "250/250 [==============================] - 118s 472ms/step - loss: 0.3350 - accuracy: 0.8551 - val_loss: 0.4680 - val_accuracy: 0.8000\n",
      "Epoch 18/25\n",
      "250/250 [==============================] - 116s 465ms/step - loss: 0.3206 - accuracy: 0.8616 - val_loss: 0.5264 - val_accuracy: 0.7850\n",
      "Epoch 19/25\n",
      "250/250 [==============================] - 116s 464ms/step - loss: 0.3087 - accuracy: 0.8640 - val_loss: 0.4867 - val_accuracy: 0.8025\n",
      "Epoch 20/25\n",
      "250/250 [==============================] - 114s 454ms/step - loss: 0.3056 - accuracy: 0.8673 - val_loss: 0.4716 - val_accuracy: 0.8020\n",
      "Epoch 21/25\n",
      "250/250 [==============================] - 113s 452ms/step - loss: 0.2869 - accuracy: 0.8748 - val_loss: 0.5162 - val_accuracy: 0.7855\n",
      "Epoch 22/25\n",
      "250/250 [==============================] - 128s 513ms/step - loss: 0.2828 - accuracy: 0.8780 - val_loss: 0.5299 - val_accuracy: 0.7940\n",
      "Epoch 23/25\n",
      "250/250 [==============================] - 79s 315ms/step - loss: 0.2620 - accuracy: 0.8907 - val_loss: 0.5161 - val_accuracy: 0.7935\n",
      "Epoch 24/25\n",
      "250/250 [==============================] - 70s 281ms/step - loss: 0.2616 - accuracy: 0.8911 - val_loss: 0.5377 - val_accuracy: 0.8025\n",
      "Epoch 25/25\n",
      "250/250 [==============================] - 71s 283ms/step - loss: 0.2544 - accuracy: 0.8938 - val_loss: 0.5641 - val_accuracy: 0.7780\n"
     ]
    },
    {
     "data": {
      "text/plain": [
       "<keras.callbacks.History at 0x1bddce65f40>"
      ]
     },
     "execution_count": 13,
     "metadata": {},
     "output_type": "execute_result"
    }
   ],
   "source": [
    "# as long we are evaluating it on the test set, we must specified the validation_data wich is out test_set\n",
    "cnn.fit(x = training_set, validation_data = test_set, epochs = 25)"
   ]
  },
  {
   "cell_type": "markdown",
   "metadata": {
    "id": "U3PZasO0006Z"
   },
   "source": [
    "## Part 4 - Making a single prediction"
   ]
  },
  {
   "cell_type": "code",
   "execution_count": 25,
   "metadata": {
    "id": "gsSiWEJY1BPB"
   },
   "outputs": [
    {
     "name": "stdout",
     "output_type": "stream",
     "text": [
      "1/1 [==============================] - 0s 32ms/step\n"
     ]
    }
   ],
   "source": [
    "import numpy as np\n",
    "import keras.utils as image\n",
    "# load our test image\n",
    "test_image = image.load_img('dataset/single_prediction/cat_or_dog_6.jpeg', target_size = (64, 64))\n",
    "# convert the pil image format to an array\n",
    "test_image = image.img_to_array(test_image)\n",
    "# add extra dimension to the image because out model was training on 32 batchs of images\n",
    "test_image = np.expand_dims(test_image, axis = 0)\n",
    "# perform the prediction (result = 1 or 0)\n",
    "result = cnn.predict(test_image)\n",
    "training_set.class_indices\n",
    "# result[batch][element]\n",
    "if result[0][0] == 1:\n",
    "  prediction = 'dog'\n",
    "else:\n",
    "  prediction = 'cat'"
   ]
  },
  {
   "cell_type": "code",
   "execution_count": 26,
   "metadata": {
    "id": "ED9KB3I54c1i"
   },
   "outputs": [
    {
     "name": "stdout",
     "output_type": "stream",
     "text": [
      "dog\n"
     ]
    }
   ],
   "source": [
    "print(prediction)"
   ]
  },
  {
   "cell_type": "code",
   "execution_count": null,
   "metadata": {},
   "outputs": [],
   "source": []
  }
 ],
 "metadata": {
  "colab": {
   "provenance": []
  },
  "kernelspec": {
   "display_name": "Python 3 (ipykernel)",
   "language": "python",
   "name": "python3"
  },
  "language_info": {
   "codemirror_mode": {
    "name": "ipython",
    "version": 3
   },
   "file_extension": ".py",
   "mimetype": "text/x-python",
   "name": "python",
   "nbconvert_exporter": "python",
   "pygments_lexer": "ipython3",
   "version": "3.9.13"
  }
 },
 "nbformat": 4,
 "nbformat_minor": 1
}
